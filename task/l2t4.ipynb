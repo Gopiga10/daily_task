{
 "cells": [
  {
   "cell_type": "code",
   "execution_count": 89,
   "id": "3e30e3b3-bda1-4fe7-9ca1-8a3fd69a4951",
   "metadata": {},
   "outputs": [],
   "source": [
    "import pandas as pd\n",
    "df = pd.read_csv(\"cleaned_tested.csv\")\n",
    "def clean_data(df):\n",
    "    \n",
    "    df[\"Sex\"] = df[\"Sex\"].map({\"male\": 0, \"female\": 1})\n",
    "    \n",
    "    \n",
    "    df = df.fillna({\"Age\": df[\"Age\"].median(), \"Fare\": df[\"Fare\"].median()})\n",
    "    \n",
    "   \n",
    "    df[\"Title\"] = df[\"Name\"].str.extract(r\" ([A-Za-z]+)\\.\", expand=False)\n",
    "    \n",
    "    \n",
    "    df[\"FamilySize\"] = df[\"SibSp\"] + df[\"Parch\"] + 1\n",
    "    \n",
    "   \n",
    "    df[\"AgeGroup\"] = pd.cut(df[\"Age\"], bins=[0, 12, 18, 40, 60, 80], \n",
    "                            labels=[\"Child\", \"Teen\", \"Adult\", \"Middle_Aged\", \"Senior\"])\n",
    "    \n",
    "    \n",
    "    df.drop([\"Name\", \"Ticket\", \"Cabin\", \"Embarked\"], axis=1, inplace=True, errors=\"ignore\")\n",
    "    \n",
    "    return df\n",
    "\n",
    "cleaned_df = clean_data(df)\n",
    "cleaned_df.to_csv(\"cleaned_titanic_dataset.csv\", index=False)\n"
   ]
  },
  {
   "cell_type": "code",
   "execution_count": null,
   "id": "e4fe639f-8cde-4e29-87b1-fd3851e25e05",
   "metadata": {},
   "outputs": [],
   "source": []
  }
 ],
 "metadata": {
  "kernelspec": {
   "display_name": "Python 3 (ipykernel)",
   "language": "python",
   "name": "python3"
  },
  "language_info": {
   "codemirror_mode": {
    "name": "ipython",
    "version": 3
   },
   "file_extension": ".py",
   "mimetype": "text/x-python",
   "name": "python",
   "nbconvert_exporter": "python",
   "pygments_lexer": "ipython3",
   "version": "3.12.4"
  }
 },
 "nbformat": 4,
 "nbformat_minor": 5
}
